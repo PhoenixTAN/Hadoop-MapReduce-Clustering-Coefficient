{
 "cells": [
  {
   "cell_type": "code",
   "execution_count": 10,
   "metadata": {},
   "outputs": [
    {
     "name": "stdout",
     "output_type": "stream",
     "text": [
      "Sum:  2768.0\n",
      "Triangles:  1384.0\n"
     ]
    }
   ],
   "source": [
    "import os\n",
    "import numpy as np\n",
    "\n",
    "'''\n",
    "Three dataset:\n",
    "    1. test\n",
    "    2. smallGraph\n",
    "    3. bigGraph\n",
    "'''\n",
    "OUTPUT_DIR = 'output'\n",
    "filepath = '/smallGraphReducer4output'\n",
    "filename = '/part-r-00000'\n",
    "\n",
    "arr = np.loadtxt(OUTPUT_DIR + filepath + filename)\n",
    "\n",
    "triangles = np.sum(arr, axis=0)\n",
    "\n",
    "print('Sum: ', triangles[1])\n",
    "\n",
    "print('Triangles: ', triangles[1]/2)\n"
   ]
  },
  {
   "cell_type": "code",
   "execution_count": null,
   "metadata": {},
   "outputs": [],
   "source": []
  }
 ],
 "metadata": {
  "kernelspec": {
   "display_name": "Python 3",
   "language": "python",
   "name": "python3"
  },
  "language_info": {
   "codemirror_mode": {
    "name": "ipython",
    "version": 3
   },
   "file_extension": ".py",
   "mimetype": "text/x-python",
   "name": "python",
   "nbconvert_exporter": "python",
   "pygments_lexer": "ipython3",
   "version": "3.6.9"
  }
 },
 "nbformat": 4,
 "nbformat_minor": 2
}
